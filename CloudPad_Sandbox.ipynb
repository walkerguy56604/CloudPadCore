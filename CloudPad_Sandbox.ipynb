{
 "cells": [
  {
   "cell_type": "markdown",
   "metadata": {},
   "source": [
    "# 🌥️ CloudPad Sandbox\n",
    "Welcome to your first CloudPad test notebook! 🚀\n",
    "\n",
    "This is a safe space to play around with Python, GitHub, and Colab."
   ]
  },
  {
   "cell_type": "code",
   "execution_count": null,
   "metadata": {},
   "outputs": [],
   "source": [
    "print(\"Hello from CloudPad Sandbox 👋\")"
   ]
  },
  {
   "cell_type": "code",
   "execution_count": null,
   "metadata": {},
   "outputs": [],
   "source": [
    "import matplotlib.pyplot as plt\n",
    "\n",
    "x = [1, 2, 3, 4, 5]\n",
    "y = [i**2 for i in x]\n",
    "\n",
    "plt.plot(x, y, marker='o')\n",
    "plt.title(\"Test Plot in CloudPad Sandbox\")\n",
    "plt.xlabel(\"x\")\n",
    "plt.ylabel(\"y = x^2\")\n",
    "plt.show()"
   ]
  }
 ],
 "metadata": {
  "kernelspec": {
   "display_name": "Python 3",
   "language": "python",
   "name": "python3"
  },
  "language_info": {
   "name": "python",
   "version": "3.x"
  }
 },
 "nbformat": 4,
 "nbformat_minor": 2
}
